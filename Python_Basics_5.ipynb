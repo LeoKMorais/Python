{
 "cells": [
  {
   "cell_type": "markdown",
   "metadata": {},
   "source": [
    "\n",
    "Peça para o usuário digitar uma velocidade inicial (em m/s), uma posição inicial (em m) e um instante de tempo (em s) e imprima a posição de um projétil nesse instante de tempo. Dica: use a fórmula matemática:\n",
    "$yt = y0 + v0*t + (1/2)*gt^2$\n",
    "Onde, g é a aceleração da gravidade (-10m/s²), y(t) é a posição\n",
    "final, y(0) é a posição inicial, v(0) é a velocidade inicial e t é o\n",
    "instante de tempo.\n"
   ]
  },
  {
   "cell_type": "code",
   "execution_count": 29,
   "metadata": {},
   "outputs": [
    {
     "name": "stdout",
     "output_type": "stream",
     "text": [
      "Digite a velocidade inicial: 10\n",
      "Digite a posição inicial: 0\n",
      "Digite o tempo desejado: 1\n",
      "posição no instante de tempo desejado:  5.0\n"
     ]
    }
   ],
   "source": [
    "v0=float(input(\"Digite a velocidade inicial: \"))\n",
    "y0=float(input(\"Digite a posição inicial: \"))\n",
    "t=float(input(\"Digite o tempo desejado: \"))\n",
    "g=-10\n",
    "yt=y0+(v0*t)+((g*(t**2))/2)\n",
    "print(\"posição no instante de tempo desejado: \",yt)"
   ]
  },
  {
   "cell_type": "markdown",
   "metadata": {},
   "source": [
    "\n",
    "Faça um programa que informe a data e a hora para o usuário. Para\n",
    "isso use a função datetime.now() do módulo datetime"
   ]
  },
  {
   "cell_type": "code",
   "execution_count": 28,
   "metadata": {},
   "outputs": [
    {
     "name": "stdout",
     "output_type": "stream",
     "text": [
      "2021-10-19 02:23:23.022812\n"
     ]
    }
   ],
   "source": [
    "from datetime import datetime\n",
    "print(datetime.now())"
   ]
  }
 ],
 "metadata": {
  "kernelspec": {
   "display_name": "Python 3 (ipykernel)",
   "language": "python",
   "name": "python3"
  },
  "language_info": {
   "codemirror_mode": {
    "name": "ipython",
    "version": 3
   },
   "file_extension": ".py",
   "mimetype": "text/x-python",
   "name": "python",
   "nbconvert_exporter": "python",
   "pygments_lexer": "ipython3",
   "version": "3.9.7"
  }
 },
 "nbformat": 4,
 "nbformat_minor": 4
}
