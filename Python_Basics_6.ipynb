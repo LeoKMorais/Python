{
 "cells": [
  {
   "cell_type": "markdown",
   "metadata": {},
   "source": [
    "\n",
    "\n",
    "Faça um programa que peça um número e mostre se ele é positivo\n",
    "ou negativo.\n"
   ]
  },
  {
   "cell_type": "code",
   "execution_count": null,
   "metadata": {},
   "outputs": [],
   "source": [
    "n=float(input(\"Digite um numero: \"))\n",
    "if n>0:\n",
    "    print(\"Positivo\")\n",
    "elif n<0:\n",
    "    print(\"negativo\")\n",
    "else:\n",
    "    print(\"neutro\")"
   ]
  },
  {
   "cell_type": "markdown",
   "metadata": {},
   "source": [
    "\n",
    "\n",
    "Faça um programa que dado um número digitado, mostre se ele é\n",
    "Par ou Ímpar.\n",
    "\n"
   ]
  },
  {
   "cell_type": "code",
   "execution_count": null,
   "metadata": {},
   "outputs": [],
   "source": [
    "n=int(input(\"Digite um numero: \"))\n",
    "if n%2==0:\n",
    "    print(\"par\")\n",
    "else:\n",
    "    print(\"impar\")"
   ]
  },
  {
   "cell_type": "markdown",
   "metadata": {},
   "source": [
    "\n",
    "Faça um programa que peça dois números e mostre o maior deles.\n",
    "\n"
   ]
  },
  {
   "cell_type": "code",
   "execution_count": null,
   "metadata": {},
   "outputs": [],
   "source": [
    "n1=float(input(\"Digite o primeiro numero: \"))\n",
    "n2=float(input(\"Digite o segundo numero: \"))\n",
    "if n1>n2:\n",
    "    print(n1,\"é maior\")\n",
    "elif n1<n2:\n",
    "    print(n2,\"é maior\")\n",
    "else:\n",
    "    print(\"São iguais\")\n",
    "    "
   ]
  },
  {
   "cell_type": "markdown",
   "metadata": {},
   "source": [
    "\n",
    "Faça um programa que leia a validade das informações:\n",
    "\n",
    "    a. Idade: entre 0 e 150;\n",
    "\n",
    "    b. Salário: maior que 0;\n",
    "\n",
    "    c. Sexo: M, F ou Outro;\n",
    "\n",
    "O programa deve imprimir uma mensagem de erro para cada\n",
    "informação inválida.\n"
   ]
  },
  {
   "cell_type": "code",
   "execution_count": null,
   "metadata": {},
   "outputs": [],
   "source": [
    "while True:\n",
    "    id=int(input(\"Digite a idade: \"))\n",
    "    if (id>=0) and (id<=150):\n",
    "        break\n",
    "    else:\n",
    "        print(\"Idade inválida\")\n",
    "while True:\n",
    "    sal=float(input(\"Digite o salário: \"))\n",
    "    if (sal>0):\n",
    "        break\n",
    "    else:\n",
    "        print(\"Salario inválido\")\n",
    "while True:\n",
    "    sexo=input(\"Digite o sexo (M, F ou OUTRO\")\n",
    "    sexo=sexo.upper()\n",
    "    if (sexo==\"M\") or (sexo==\"F\") or (sexo==\"OUTRO\"):\n",
    "        break\n",
    "    else:\n",
    "        print(\"Sexo inválido\")"
   ]
  },
  {
   "cell_type": "markdown",
   "metadata": {},
   "source": [
    "\n",
    "\n",
    "Escreva um programa que peça a nota de 3 provas de um aluno e\n",
    "verifique se ele passou o não de ano.\n",
    "Obs.: O aluno irá passar de ano se sua média for maior que 6.\n"
   ]
  },
  {
   "cell_type": "code",
   "execution_count": null,
   "metadata": {},
   "outputs": [],
   "source": [
    "p1=float(input(\"Digite a primeira nota\"))\n",
    "p2=float(input(\"Digite a primeira nota\"))\n",
    "p3=float(input(\"Digite a primeira nota\"))\n",
    "med=(p1+p2+p3)/3\n",
    "if (med>=6):\n",
    "    print(\"Aprovado\")\n",
    "else:\n",
    "    print(\"Reprovado\")"
   ]
  },
  {
   "cell_type": "markdown",
   "metadata": {},
   "source": [
    "\n",
    "Faça um programa que mostre uma questão de múltipla escolha com\n",
    "5 opções (letras a, b, c, d, e e). Sabendo a resposta certa, o programa\n",
    "deve receber a opção do usuário e informar a letra que o usuário\n",
    "marcou e se a resposta está certa ou errada.\n"
   ]
  },
  {
   "cell_type": "code",
   "execution_count": null,
   "metadata": {},
   "outputs": [],
   "source": [
    "escolha = input(\"Digite a solução escolhida (a,b,c,d,e)\")\n",
    "escolha=escolha.upper()\n",
    "correta=\"C\"\n",
    "if escolha==correta:\n",
    "    print(\"Acertou\")\n",
    "else:\n",
    "    print(\"Errou\")"
   ]
  },
  {
   "cell_type": "markdown",
   "metadata": {},
   "source": [
    "\n",
    "\n",
    "Vamos fazer um programa para verificar quem é o assassino de um crime. Para descobrir o assassino, a polícia faz um pequeno questionário com 5 perguntas onde a resposta só pode ser sim ou não:\n",
    "    a. Mora perto da vítima?\n",
    "    b. Já trabalhou com a vítima?\n",
    "    c. Telefonou para a vítima?\n",
    "    d. Esteve no local do crime?\n",
    "    e. Devia para a vítima?\n",
    "Cada resposta sim dá um ponto para o suspeito. A polícia considera que os suspeitos com 5 pontos são os assassinos, com 4 a 3 pontos são cúmplices e 2 pontos são apenas suspeitos, necessitando outras investigações. Valores abaixo de 1 são liberados.\n"
   ]
  },
  {
   "cell_type": "code",
   "execution_count": null,
   "metadata": {},
   "outputs": [],
   "source": [
    "cont=0\n",
    "a=input(\"Mora perto da vítima?(s ou n)\")\n",
    "a=a.lower()\n",
    "b=input(\"Já trabalhou com a vítima?(s ou n)\")\n",
    "b=b.lower()\n",
    "c=input(\"Telefonou para a vítima?(s ou n)\")\n",
    "c=c.lower()\n",
    "d=input(\"Esteve no local do crime?(s ou n)\")\n",
    "d=d.lower()\n",
    "f=input(\"Devia para a vítima?(s ou n)\")\n",
    "f=f.lower()\n",
    "if (a==\"s\"):\n",
    "    cont=cont+1\n",
    "if(b==\"s\"):\n",
    "    cont=cont+1\n",
    "if(c==\"s\"):\n",
    "    cont=cont+1\n",
    "if(d==\"s\"):\n",
    "    cont=cont+1\n",
    "if(f==\"s\"):\n",
    "    cont=cont+1\n",
    "if (cont==5):\n",
    "    print(\"ASSASSINO\")\n",
    "elif (cont==4) or (cont==3):\n",
    "    print(\"CUMPLICE\")\n",
    "elif (cont==2):\n",
    "    print(\"SUSPEITO\")\n",
    "else:\n",
    "    print(\"LIBERADO\")\n"
   ]
  },
  {
   "cell_type": "markdown",
   "metadata": {},
   "source": [
    "\n",
    "Um produto vai sofrer aumento de acordo com a Tabela 1 abaixo. Faça\n",
    "um programa que peça para o usuário digitar o valor do produto de\n",
    "acordo com o preço antigo e escreva uma das mensagens da Tabela\n",
    "2, de acordo com o preço reajustado:\n",
    "\n",
    "REAJUSTE: \n",
    "\n",
    "- Até 50 : 5\\%\n",
    "\n",
    "- Entre 50 e 100 : 10\\%\n",
    "\n",
    "- Entre 100 e 150 : 13\\%\n",
    "\n",
    "- Acima de 150 : 15\\%\n",
    "\n",
    "MENSAGENS: \n",
    "\n",
    "- Até 80 : Barato\n",
    "\n",
    "- Entre 80 e 115 : Razoável\n",
    "\n",
    "- Entre 115 e 150 : Normal\n",
    "\n",
    "- Entre 150 e 170 : Caro\n",
    "\n",
    "- Acima de 170 : Muito caro"
   ]
  },
  {
   "cell_type": "code",
   "execution_count": null,
   "metadata": {},
   "outputs": [],
   "source": [
    "preco=float(input(\"Digite o preço: \"))\n",
    "if (preco<=50):\n",
    "    npreco=preco*1.05\n",
    "elif (preco>50) and (preco<=100):\n",
    "    npreco=preco*1.10\n",
    "elif (preco>100) and (preco<=150):\n",
    "    npreco=preco*1.13\n",
    "else:\n",
    "    npreco=preco*1.15\n",
    "if (npreco<=80):\n",
    "    print(\"barato\")\n",
    "elif (npreco>80) and (npreco<=115):\n",
    "    print(\"Razoável\")\n",
    "elif (npreco>115) and (npreco<=150):\n",
    "    print(\"normal\")\n",
    "elif (npreco>150) and (npreco<=170):\n",
    "    print(\"caro\")\n",
    "else:\n",
    "    print(\"Muito caro\")"
   ]
  },
  {
   "cell_type": "markdown",
   "metadata": {},
   "source": [
    "\n",
    "Faça um programa que leia 3 números e informe o maior deles.\n",
    "\n"
   ]
  },
  {
   "cell_type": "code",
   "execution_count": null,
   "metadata": {},
   "outputs": [],
   "source": [
    "lista=[]\n",
    "lista.append(float(input(\"Digite o primeiro numero\")))\n",
    "lista.append(float(input(\"Digite o segundo numero\")))\n",
    "lista.append(float(input(\"Digite o terceiro numero\")))\n",
    "lista.sort()\n",
    "print(\"Maior número é: \",lista[-1])"
   ]
  },
  {
   "cell_type": "markdown",
   "metadata": {},
   "source": [
    "Faça o mesmo programa do exercício anterior, porém com 4\n",
    "números.\n",
    "\n"
   ]
  },
  {
   "cell_type": "code",
   "execution_count": null,
   "metadata": {},
   "outputs": [],
   "source": [
    "lista=[]\n",
    "lista.append(float(input(\"Digite o primeiro numero\")))\n",
    "lista.append(float(input(\"Digite o segundo numero\")))\n",
    "lista.append(float(input(\"Digite o terceiro numero\")))\n",
    "lista.append(float(input(\"Digite o quarto numero\")))\n",
    "lista.sort()\n",
    "print(\"Maior número é: \",lista[-1])"
   ]
  }
 ],
 "metadata": {
  "interpreter": {
   "hash": "c06b424e22e94f2a96cebe0d74eabe3cecc478721a716953765d4cc93811411c"
  },
  "kernelspec": {
   "display_name": "Python 3.9.7 64-bit",
   "name": "python3"
  },
  "language_info": {
   "codemirror_mode": {
    "name": "ipython",
    "version": 3
   },
   "file_extension": ".py",
   "mimetype": "text/x-python",
   "name": "python",
   "nbconvert_exporter": "python",
   "pygments_lexer": "ipython3",
   "version": "3.9.7"
  }
 },
 "nbformat": 4,
 "nbformat_minor": 4
}
