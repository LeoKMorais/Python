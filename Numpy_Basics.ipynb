{
 "cells": [
  {
   "cell_type": "markdown",
   "id": "ce794751",
   "metadata": {},
   "source": [
    "Neste arquivo será realizada a resolução de alguns exercícios utilizando a biblioteca Numpy:"
   ]
  },
  {
   "cell_type": "code",
   "execution_count": null,
   "id": "c5f3db54",
   "metadata": {},
   "outputs": [],
   "source": [
    "import pandas as pd\n",
    "import numpy as np"
   ]
  },
  {
   "cell_type": "code",
   "execution_count": null,
   "id": "4a36ef5c",
   "metadata": {},
   "outputs": [],
   "source": [
    "pd.options.display.float_format = '{:,.2f}'.format"
   ]
  },
  {
   "cell_type": "markdown",
   "id": "3a67cefc",
   "metadata": {},
   "source": [
    "### Problema 1\n",
    "\n",
    "(a) Crie uma matriz A com as dimensões (5, 4) e elementos aleatórios variando entre 0 e 50, com o 50 incluso;\n",
    "\n",
    "(b) Retorne a média do vetor\n",
    "\n",
    "(c) Retorne os menores valores de cada coluna;\n",
    "\n",
    "(d) Retorne os maiores valores de cada linha."
   ]
  },
  {
   "cell_type": "code",
   "execution_count": null,
   "id": "c41394ee",
   "metadata": {},
   "outputs": [],
   "source": [
    "# 1 - a)\n",
    "matriz_A = np.random.randint(low=0, high=51, size = (5, 4))\n",
    "matriz_A"
   ]
  },
  {
   "cell_type": "code",
   "execution_count": null,
   "id": "50c75c25",
   "metadata": {},
   "outputs": [],
   "source": [
    "# 1 - b)\n",
    "matriz_A.mean()"
   ]
  },
  {
   "cell_type": "code",
   "execution_count": null,
   "id": "6eabbe28",
   "metadata": {},
   "outputs": [],
   "source": [
    "# 1 - c)\n",
    "matriz_A.min(axis = 0)"
   ]
  },
  {
   "cell_type": "code",
   "execution_count": null,
   "id": "1e5ee79e",
   "metadata": {},
   "outputs": [],
   "source": [
    "# 1 - d)\n",
    "matriz_A.max(axis = 1)"
   ]
  },
  {
   "cell_type": "markdown",
   "id": "a6911298",
   "metadata": {},
   "source": [
    "### Problema 2\n",
    "\n",
    "Crie um objeto DataFrame que contenha os dados da tabela abaixo, os quais se referem ao peso, altura e idade de cinco pessoas:\n",
    "\n",
    "\n",
    "| Peso (kg) | Altura (cm) | Idade (anos) |\n",
    "|-----------|-------------|--------------|\n",
    "|  47 | 161\t| 31 |\n",
    "|  80 | 170\t| 21 |\n",
    "|  60 | 175\t| 16 |\n",
    "|  90 | 162\t| 28 |\n",
    "| 100 | 185\t| 23 |\n",
    "| 147 | 189 | 32 |\n",
    "\n",
    "Com base no DataFrame criado, realize o que for pedido nos itens abaixo:\n",
    "\n",
    "(a) Visualize apenas os dados da coluna que contém a altura das pessoas;\n",
    "\n",
    "(b) Obtenha a idade média das pessoas;\n",
    "\n",
    "(c) Obtenha os dados das pessoas que estão abaixo da altura média;\n",
    "\n",
    "(d) Crie um nova coluna no DataFrame que contenha o IMC (Índice de Massa Corporal) de cada pessoa;\n",
    "\n",
    "__Obs.:__ A fórmula para o IMC é dada por IMC = Peso/(Altura)² com o peso em kg e a altura em metros.\n",
    "\n",
    "(e) Remova a coluna que contém a idade das pessoas;\n",
    "\n",
    "(f) Crie uma nova coluna chamada Classificação, que contenha a classificação de cada indivíduo, de acordo com o seu IMC. Para isso, consulte a tabela abaixo.\n",
    "\n",
    "| IMC             | Classificação |\n",
    "|-----------------|---------------|\n",
    "Menor que 18,5    | Subpeso |\n",
    "Entre 18,5 e 24,9 | Normal |\n",
    "Entre 25,0 e 29,9 | Sobrepeso |\n",
    "Entre 30,0 e 39,9 | Obesidade Grau I |\n",
    "Maior que 40,0    | Obesidade Grau II |\n",
    "\n",
    "(g) Salve esses dados do DataFrame em um arquivo csv."
   ]
  },
  {
   "cell_type": "code",
   "execution_count": null,
   "id": "c2cacee0",
   "metadata": {},
   "outputs": [],
   "source": [
    "df = pd.DataFrame({\"Peso (kg)\": [47, 80, 60, 90, 100, 147], \"Altura (cm)\": [161, 170, 175, 162, 185, 189], \"Idade (anos)\": [31, 21, 16, 28, 23, 32] })\n",
    "df"
   ]
  },
  {
   "cell_type": "code",
   "execution_count": null,
   "id": "43b08cd5",
   "metadata": {},
   "outputs": [],
   "source": [
    "# 2 - a)\n",
    "df[[\"Altura (cm)\"]]"
   ]
  },
  {
   "cell_type": "code",
   "execution_count": null,
   "id": "34e7b84c",
   "metadata": {},
   "outputs": [],
   "source": [
    "# 2 - b)\n",
    "df[[\"Idade (anos)\"]].mean()"
   ]
  },
  {
   "cell_type": "code",
   "execution_count": null,
   "id": "83a66732",
   "metadata": {},
   "outputs": [],
   "source": [
    "# 2 - c) \n",
    "print(df[[\"Altura (cm)\"]].mean())\n",
    "df[df[\"Altura (cm)\"] < df[\"Altura (cm)\"].mean()]"
   ]
  },
  {
   "cell_type": "code",
   "execution_count": null,
   "id": "e8f60319",
   "metadata": {},
   "outputs": [],
   "source": [
    "# 2 - d)\n",
    "df[\"IMC\"] = (df[\"Peso (kg)\"] / ((df[\"Altura (cm)\"]/100) ** 2))\n",
    "df"
   ]
  },
  {
   "cell_type": "code",
   "execution_count": null,
   "id": "033e4645",
   "metadata": {},
   "outputs": [],
   "source": [
    "# 2 - e)\n",
    "df.drop([\"Idade (anos)\"], axis = 1, inplace = True)\n",
    "df"
   ]
  },
  {
   "cell_type": "code",
   "execution_count": null,
   "id": "3b88a3da",
   "metadata": {},
   "outputs": [],
   "source": [
    "# 2 - f)\n",
    "def classificacao_imc(imc):\n",
    "    if imc < 18.5:\n",
    "        return \"Subpeso\"\n",
    "    elif imc >= 18.5 and imc <= 24.9:\n",
    "        return \"Normal\"\n",
    "    elif imc > 24.9 and imc < 29.9:\n",
    "        return \"Sobrepeso\"\n",
    "    elif imc >= 30.0 and imc  < 39.9:\n",
    "        return \"Obesidade Grau I\"\n",
    "    elif imc >= 40:\n",
    "        return \"Obesidade Grau II\"\n",
    "df[\"Classificação\"] = df['IMC'].apply(classificacao_imc)\n",
    "df"
   ]
  },
  {
   "cell_type": "code",
   "execution_count": null,
   "id": "857185df",
   "metadata": {},
   "outputs": [],
   "source": [
    "# 2 - g) \n",
    "df.to_csv('D:\\OneDrive\\LetsCode\\DS_Degree\\Modulo_04\\Projeto\\DADOS\\df_imc.csv', sep=';', index=False)"
   ]
  }
 ],
 "metadata": {
  "kernelspec": {
   "display_name": "Python 3",
   "language": "python",
   "name": "python3"
  },
  "language_info": {
   "codemirror_mode": {
    "name": "ipython",
    "version": 3
   },
   "file_extension": ".py",
   "mimetype": "text/x-python",
   "name": "python",
   "nbconvert_exporter": "python",
   "pygments_lexer": "ipython3",
   "version": "3.8.8"
  },
  "varInspector": {
   "cols": {
    "lenName": 16,
    "lenType": 16,
    "lenVar": 40
   },
   "kernels_config": {
    "python": {
     "delete_cmd_postfix": "",
     "delete_cmd_prefix": "del ",
     "library": "var_list.py",
     "varRefreshCmd": "print(var_dic_list())"
    },
    "r": {
     "delete_cmd_postfix": ") ",
     "delete_cmd_prefix": "rm(",
     "library": "var_list.r",
     "varRefreshCmd": "cat(var_dic_list()) "
    }
   },
   "types_to_exclude": [
    "module",
    "function",
    "builtin_function_or_method",
    "instance",
    "_Feature"
   ],
   "window_display": false
  }
 },
 "nbformat": 4,
 "nbformat_minor": 5
}
