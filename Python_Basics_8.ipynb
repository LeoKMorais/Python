{
 "cells": [
  {
   "cell_type": "markdown",
   "metadata": {},
   "source": [
    "Crie uma lista qualquer e faça um programa que imprima cada elemento da lista usando o for."
   ]
  },
  {
   "cell_type": "code",
   "execution_count": null,
   "metadata": {},
   "outputs": [],
   "source": [
    "lista=[1,2,3.55,4,True,\"Leo\"]\n",
    "for x in lista:\n",
    "    print (x)"
   ]
  },
  {
   "cell_type": "markdown",
   "metadata": {},
   "source": [
    "Faça um programa que imprima todos os itens de uma lista usando while e compare com o exercício 1. \n"
   ]
  },
  {
   "cell_type": "code",
   "execution_count": null,
   "metadata": {},
   "outputs": [],
   "source": [
    "lista=[1,2,3.55,4,True,\"Leo\"]\n",
    "i=0\n",
    "while i<len(lista):\n",
    "    print(lista[i])\n",
    "    i+=1"
   ]
  },
  {
   "cell_type": "markdown",
   "metadata": {},
   "source": [
    "Faça um programa que peça para o usuário digitar um número n e imprima uma lista com todos os números de 0 a n-1. Exemplo: se o usuário digitar 5, o programa deve imprimir [0, 1, 2, 3, 4] \n",
    "\n"
   ]
  },
  {
   "cell_type": "code",
   "execution_count": null,
   "metadata": {},
   "outputs": [],
   "source": [
    "n=int(input(\"Digite um numero inteiro: \"))\n",
    "lista=[]\n",
    "for i in range (n):\n",
    "    lista.append(i)\n",
    "print(lista)\n"
   ]
  },
  {
   "cell_type": "markdown",
   "metadata": {},
   "source": [
    "Faça um programa que olhe todos os itens de uma lista e diga quantos deles são pares. \n",
    "\n"
   ]
  },
  {
   "cell_type": "code",
   "execution_count": null,
   "metadata": {},
   "outputs": [],
   "source": [
    "lista=[1,2,3,4,5,6,7,8,9,10]\n",
    "cont=0\n",
    "for x in lista:\n",
    "    if x%2==0:\n",
    "        cont+=1\n",
    "        print(x,\"é par\")\n",
    "print (\"Números pares:\",cont)"
   ]
  },
  {
   "cell_type": "markdown",
   "metadata": {},
   "source": [
    "Faça um programa que imprima o maior número de uma lista, sem usar o método max().\n"
   ]
  },
  {
   "cell_type": "code",
   "execution_count": null,
   "metadata": {},
   "outputs": [],
   "source": [
    "lista=[4,8,12.5,6,0,7]\n",
    "lista2=sorted(lista)\n",
    "print(lista2[-1])"
   ]
  },
  {
   "cell_type": "markdown",
   "metadata": {},
   "source": [
    "\n",
    "Agora usando o método max() faça um programa que imprima os três maiores números de uma lista.  Dica: Use o método próprio de listas .remove(). \n",
    "\n"
   ]
  },
  {
   "cell_type": "code",
   "execution_count": null,
   "metadata": {},
   "outputs": [],
   "source": [
    "lista=[4,8,12.5,6,0,7]\n",
    "for i in range (3):\n",
    "    i=max(lista)\n",
    "    print(i)\n",
    "    lista.remove(i)"
   ]
  },
  {
   "cell_type": "markdown",
   "metadata": {},
   "source": [
    "Faça um programa que, dadas duas listas de mesmo tamanho, crie uma nova lista com cada elemento igual a soma dos elementos da lista 1 com os da lista 2, na mesma posição.  Exemplo: dadas lista1 = [1, 4, 5] e lista2 = [2, 2, 3], então lista3 = [1+2, 4+2, 5+3] = [3, 6, 8] \n",
    "\n"
   ]
  },
  {
   "cell_type": "code",
   "execution_count": null,
   "metadata": {},
   "outputs": [],
   "source": [
    "lista1=[1,4,5]\n",
    "lista2=[2,2,3]\n",
    "lista3=[]\n",
    "for i in range(len(lista1)):\n",
    "    lista3.append(lista1[i]+lista2[i])\n",
    "print(lista3)\n",
    "    "
   ]
  },
  {
   "cell_type": "markdown",
   "metadata": {},
   "source": [
    "Faça  um  programa  que  dadas  duas  listas  de  mesmo  tamanho, imprima o produto escalar entre elas.  OBS: produto escalar é a soma do resultado da multiplicação entre o número na posição i da lista1 pelo número na posição i da lista2, com i variando de 0 ao tamanho da lista. \n"
   ]
  },
  {
   "cell_type": "code",
   "execution_count": null,
   "metadata": {},
   "outputs": [],
   "source": [
    "lista1=[1,4,5]\n",
    "lista2=[2,2,3]\n",
    "soma=0\n",
    "for i in range(len(lista1)):\n",
    "    soma=soma+(lista1[i]*lista2[i])\n",
    "print(soma)"
   ]
  },
  {
   "cell_type": "markdown",
   "metadata": {},
   "source": [
    "Faça um programa que pede para o usuário digitar 5 números e, ao final, imprime uma lista com os 5 números digitados pelo usuário (sem converter os números para int ou float).  Exemplo: Se o usuário digitar 1, 5, 2, 3, 6, o programa deve imprimir a lista ['1','5','2','3','6']  \n"
   ]
  },
  {
   "cell_type": "code",
   "execution_count": null,
   "metadata": {},
   "outputs": [],
   "source": [
    "lista=[]\n",
    "for x in range(5):\n",
    "    lista.append(input(\"Digite um número\"))\n",
    "print(lista)\n",
    "    "
   ]
  },
  {
   "cell_type": "markdown",
   "metadata": {},
   "source": [
    "\n",
    "Pegue a lista gerada no exercício anterior e transforme cada um dos itens dessa lista em um float.  OBS: Não é para alterar o programa anterior, mas sim a lista gerada por ele. \n",
    "\n"
   ]
  },
  {
   "cell_type": "code",
   "execution_count": null,
   "metadata": {},
   "outputs": [],
   "source": [
    "lista=[]\n",
    "for x in range(5):\n",
    "    lista.append(input(\"Digite um número\"))\n",
    "for x in range(len(lista)):\n",
    "    lista[x]=float(lista[x])\n",
    "print(lista)"
   ]
  },
  {
   "cell_type": "markdown",
   "metadata": {},
   "source": [
    "Faça um Programa que peça as 4 notas bimestrais e mostre a média aritmética delas, usando listas.  \n",
    "\n"
   ]
  },
  {
   "cell_type": "code",
   "execution_count": null,
   "metadata": {},
   "outputs": [],
   "source": [
    "notas=[]\n",
    "for x in range(4):\n",
    "    lista.append(float(input(\"Digite a nota: \")))\n",
    "media=sum(lista)/len(lista)\n",
    "mediaform='A Média é {:.2f}'.format(media)\n",
    "print(mediaform)"
   ]
  },
  {
   "cell_type": "markdown",
   "metadata": {},
   "source": [
    "Sorteie uma lista de 10 números e imprima: \n",
    "\n",
    "- a.uma lista com os 4 primeiros números; \n",
    "- b.uma lista com os 5 últimos números; \n",
    "- c.uma lista contendo apenas os elementos das posições pares; \n",
    "- d.uma lista contendo apenas os elementos das posições ímpares; \n",
    "- e.a lista inversa da lista sorteada (isto é, uma lista que começa com o último elemento da lista sorteada e termina com o primeiro); \n",
    "- f.uma lista inversa dos 5 primeiros números; \n",
    "- g.uma lista inversa dos 5 últimos números. \n",
    "\n"
   ]
  },
  {
   "cell_type": "code",
   "execution_count": null,
   "metadata": {},
   "outputs": [],
   "source": [
    "import random\n",
    "lista=random.sample(range(0,100),10)\n",
    "a=lista[:4]\n",
    "b=lista[-5:]\n",
    "c=[]\n",
    "d=[]\n",
    "for i in range(len(lista)):\n",
    "    if i%2==0:\n",
    "        c.append(lista[i])\n",
    "    else:\n",
    "        d.append(lista[i])\n",
    "e=lista[::-1]\n",
    "f=lista[:5][::-1]\n",
    "g=lista[-5:][::-1]\n",
    "print(lista)\n",
    "print(a,b,c,d,e,f,g)\n",
    "\n",
    "\n"
   ]
  },
  {
   "cell_type": "markdown",
   "metadata": {},
   "source": [
    "Faça  um programa que sorteia 10 números entre 0 e 100 e conte quantos números sorteados são maiores que 50. \n"
   ]
  },
  {
   "cell_type": "code",
   "execution_count": null,
   "metadata": {},
   "outputs": [],
   "source": [
    "import random\n",
    "lista=random.sample(range(0,100),10)\n",
    "lista2=[]\n",
    "for x in lista:\n",
    "    if x>50:\n",
    "        lista2.append(x)\n",
    "print(lista,lista2)\n",
    "\n"
   ]
  },
  {
   "cell_type": "markdown",
   "metadata": {},
   "source": [
    "\n",
    "Faça um programa que sorteie 10 números entre 0 e 100 e imprima: \n",
    "\n",
    "- a.o maior número sorteado;\n",
    "- b.o menor número sorteado; \n",
    "- c.a média dos números sorteados; \n",
    "- d.a soma dos números sorteados."
   ]
  },
  {
   "cell_type": "code",
   "execution_count": null,
   "metadata": {},
   "outputs": [],
   "source": [
    "import random\n",
    "lista=random.sample(range(0,100),10)\n",
    "a=max(lista)\n",
    "b=min(lista)\n",
    "c=sum(lista)/len(lista)\n",
    "d=sum(lista)\n",
    "print(a,b,c,d)"
   ]
  }
 ],
 "metadata": {
  "interpreter": {
   "hash": "c06b424e22e94f2a96cebe0d74eabe3cecc478721a716953765d4cc93811411c"
  },
  "kernelspec": {
   "display_name": "Python 3.9.7 64-bit",
   "name": "python3"
  },
  "language_info": {
   "codemirror_mode": {
    "name": "ipython",
    "version": 3
   },
   "file_extension": ".py",
   "mimetype": "text/x-python",
   "name": "python",
   "nbconvert_exporter": "python",
   "pygments_lexer": "ipython3",
   "version": "3.9.7"
  }
 },
 "nbformat": 4,
 "nbformat_minor": 4
}
