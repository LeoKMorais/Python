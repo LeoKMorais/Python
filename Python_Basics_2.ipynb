{
 "cells": [
  {
   "cell_type": "markdown",
   "metadata": {},
   "source": [
    "Faça um programa, usando loops, que peça para um usuário digitar um número e que só finaliza quando o usuário digitar 0. Ao final imprima a soma de todos os números digitados:"
   ]
  },
  {
   "cell_type": "code",
   "execution_count": null,
   "metadata": {},
   "outputs": [],
   "source": [
    "soma=0\n",
    "while True:\n",
    "    n1=float(input('Digite um número (0 para sair)'))\n",
    "    if n1!=0:\n",
    "        soma=soma+n1\n",
    "    else:\n",
    "        break\n",
    "print ('A Soma de todos os números é:',soma)"
   ]
  },
  {
   "cell_type": "markdown",
   "metadata": {},
   "source": [
    "Faça um script que peça para o usuário digitar a idade, o salário e o sexo de uma pessoa até que as entradas digitadas sejam válidas.\n",
    "\n",
    "    *Idade: entre 0 e 150;\n",
    "    *Salário: maior que 0;\n",
    "    *Gênero: M, F ou Outro.\n",
    "\n",
    "Por último imprima os dados recebidos do usuário:"
   ]
  },
  {
   "cell_type": "code",
   "execution_count": null,
   "metadata": {},
   "outputs": [],
   "source": [
    "while True:\n",
    "    id=int(input('Digite a idade'))\n",
    "    if (id<0) and (id>150):\n",
    "        id=int(input('Idade inválida. Digite novamente'))\n",
    "    else:\n",
    "        break\n",
    "while True:\n",
    "    sal=float(input('Digite o salário'))\n",
    "    if (sal<=0):\n",
    "        sal=float(input('Salário inválido. Digite novamente'))\n",
    "    else:\n",
    "        break\n",
    "while True:\n",
    "    gen=input('Digite o sexo (M, F ou Outro')\n",
    "    gen=gen.lower()\n",
    "    if (gen!='m') and (gen!='f') and (gen!='outro'):\n",
    "        gen=input('Gênero inválido. Digite novamente')\n",
    "        gen=gen.lower()\n",
    "    else:\n",
    "        break\n",
    "print('A idade é:',id)\n",
    "print('O salário é:',sal)\n",
    "print('O Gênero é:',gen)"
   ]
  },
  {
   "cell_type": "markdown",
   "metadata": {},
   "source": [
    "Faça um script que peça ao usuário para digitar um número n e some todos os números de 1 a n:"
   ]
  },
  {
   "cell_type": "code",
   "execution_count": null,
   "metadata": {},
   "outputs": [],
   "source": [
    "n=int(input('Digite um número (apenas inteiros)'))\n",
    "cont=1\n",
    "ini=0\n",
    "if n>0:\n",
    "    while cont<=n:\n",
    "        ini=ini+cont\n",
    "        cont+=1\n",
    "else:\n",
    "    print('ERRO: DIGITE UM INTEIRO MAIOR QUE 0')"
   ]
  },
  {
   "cell_type": "markdown",
   "metadata": {},
   "source": [
    "Faça um programa que recebe um número inteiro do usuário e imprime na tela a quantidade de divisores desse número e quais são eles:"
   ]
  },
  {
   "cell_type": "code",
   "execution_count": null,
   "metadata": {},
   "outputs": [],
   "source": [
    "n=int(input('Digite um número inteiro'))\n",
    "cont=n\n",
    "div=0\n",
    "while cont>0:\n",
    "    if n%cont==0:\n",
    "        print('Divisor:',cont)\n",
    "        div+=1\n",
    "    cont-=1\n",
    "print('Total de divisores:',div)"
   ]
  }
 ],
 "metadata": {
  "language_info": {
   "name": "python"
  },
  "orig_nbformat": 4
 },
 "nbformat": 4,
 "nbformat_minor": 2
}
