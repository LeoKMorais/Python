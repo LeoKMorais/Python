{
 "cells": [
  {
   "cell_type": "markdown",
   "metadata": {},
   "source": [
    "Faça um programa que peça para o usuário digitar um número n e imprima uma lista com todos os números de 0 a n-1:"
   ]
  },
  {
   "cell_type": "code",
   "execution_count": null,
   "metadata": {},
   "outputs": [],
   "source": [
    "l1=[]\n",
    "n=int(input('Digite um número inteiro'))\n",
    "if n>0:\n",
    "    for i in range (0,n):\n",
    "        l1.append(i)\n",
    "    print ('Os números da lista são:', l1)\n",
    "else:\n",
    "    print ('ERRO: DIGITE UM INTEIRO MAIOR QUE 0')"
   ]
  },
  {
   "cell_type": "markdown",
   "metadata": {},
   "source": [
    "Faça um programa que imprima o maior número de uma lista, sem usar a função max():"
   ]
  },
  {
   "cell_type": "code",
   "execution_count": null,
   "metadata": {},
   "outputs": [],
   "source": [
    "l1= [-1,2,5,0,7,-8,14,1]\n",
    "l1.sort()\n",
    "l1.reverse()\n",
    "print(l1[0])"
   ]
  },
  {
   "cell_type": "markdown",
   "metadata": {},
   "source": [
    "Agora usando a função max() faça um programa que imprima os três maiores números de uma lista:"
   ]
  },
  {
   "cell_type": "code",
   "execution_count": null,
   "metadata": {},
   "outputs": [],
   "source": [
    "l1= [-1,2,5,0,7,-8,14,1]\n",
    "l2=[]\n",
    "for i in range(0,3):\n",
    "    l2.append(max(l1))\n",
    "    l1.remove(max(l1))\n",
    "print('Os três maiores são:', l2)"
   ]
  },
  {
   "cell_type": "markdown",
   "metadata": {},
   "source": [
    "Faça um programa que peça para o usuário digitar o nome e a idade de um aluno e o número de provas que esse aluno fez. Depois, o programa deve pedir para o usuário digitar as notas de cada prova do aluno. Ao final o programa deve imprimir uma lista contendo:\n",
    "\n",
    "    *a. Nome do aluno na posição 0;\n",
    "\n",
    "    *b. Idade do aluno na posição 1;\n",
    "\n",
    "    *c. Uma lista com todas as notas na posição 2;\n",
    "\n",
    "    *d. A média do aluno na posição 3;\n",
    "\n",
    "    *e. True ou False, caso a média seja maior que 5 ou não, na posição 4."
   ]
  },
  {
   "cell_type": "code",
   "execution_count": null,
   "metadata": {},
   "outputs": [],
   "source": [
    "nome=input('Digite o nome do aluno')\n",
    "id=int(input('Digite a idade do aluno'))\n",
    "nprovas=int(input('Digite o número de provas que o aluno realizou'))\n",
    "notas=[]\n",
    "tab=[]\n",
    "for i in range (0,nprovas):\n",
    "    num=i+1\n",
    "    notas.append(float(input('Digite a nota do aluno (uma por vez)')))\n",
    "media=sum(notas)/len(notas)\n",
    "if media>5:\n",
    "    bol=True\n",
    "else:\n",
    "    bol=False\n",
    "tab.append(nome)\n",
    "tab.append(id)\n",
    "tab.append(notas)\n",
    "tab.append(media)\n",
    "tab.append(bol)\n",
    "print(tab)\n"
   ]
  }
 ],
 "metadata": {
  "language_info": {
   "name": "python"
  },
  "orig_nbformat": 4
 },
 "nbformat": 4,
 "nbformat_minor": 2
}
