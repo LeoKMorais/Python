{
 "cells": [
  {
   "cell_type": "markdown",
   "metadata": {},
   "source": [
    "Faça um programa que peça para o usuário digitar uma palavra e imprima cada letra em uma linha:"
   ]
  },
  {
   "cell_type": "code",
   "execution_count": null,
   "metadata": {},
   "outputs": [],
   "source": [
    "txt=input('Digite uma palavra')\n",
    "for i in txt:\n",
    "    print(i)"
   ]
  },
  {
   "cell_type": "markdown",
   "metadata": {},
   "source": [
    "Faça um programa que pede para o usuário digitar uma palavra e cria uma nova string igual, copiando letra por letra a palavra digitada, depois imprima a nova string:"
   ]
  },
  {
   "cell_type": "code",
   "execution_count": null,
   "metadata": {},
   "outputs": [],
   "source": [
    "txt=input('Digite uma palavra: ')\n",
    "txt=list(txt)\n",
    "txt2=[]\n",
    "for i in range (len(txt)):\n",
    "    txt2.append(txt[i])\n",
    "txt2=''.join(txt2)\n",
    "print('A palavra digitada foi', txt2)"
   ]
  },
  {
   "cell_type": "markdown",
   "metadata": {},
   "source": [
    "Altere o exercício anterior para que a string copiada alterne entre letras maiúsculas e minúsculas:"
   ]
  },
  {
   "cell_type": "code",
   "execution_count": null,
   "metadata": {},
   "outputs": [],
   "source": [
    "txt=input('Digite uma palavra: ')\n",
    "txt=list(txt)\n",
    "txt2=[]\n",
    "for i in range (len(txt)):\n",
    "    txt2.append(txt[i].lower())\n",
    "for i in range (0,len(txt2),2):\n",
    "    txt2[i]=txt2[i].upper()\n",
    "txt2=''.join(txt2)\n",
    "print('A palavra digitada foi', txt2)"
   ]
  },
  {
   "cell_type": "markdown",
   "metadata": {},
   "source": [
    "Faça um programa que pede para o usuário digitar uma palavra e cria uma nova string igual, porém com espaço entre cada letra, depois imprima a nova string:"
   ]
  },
  {
   "cell_type": "code",
   "execution_count": null,
   "metadata": {},
   "outputs": [],
   "source": [
    "txt=input('Digite uma palavra: ')\n",
    "txt=list(txt)\n",
    "txt2=[]\n",
    "for i in range (len(txt)):\n",
    "    txt2.append(txt[i].lower())\n",
    "for i in range (0,len(txt2),2):\n",
    "    txt2[i]=txt2[i].upper()\n",
    "txt2=''.join(txt2)\n",
    "print('A palavra digitada foi', txt2)"
   ]
  },
  {
   "cell_type": "markdown",
   "metadata": {},
   "source": [
    "Faça um programa que leia uma string e imprima uma nova string substituindo:\n",
    "\n",
    "    'a' por '4'\n",
    "\n",
    "    'e' por '3'\n",
    "\n",
    "    'I' por '1'\n",
    "\n",
    "    't' por '7'"
   ]
  },
  {
   "cell_type": "code",
   "execution_count": null,
   "metadata": {},
   "outputs": [],
   "source": [
    "txt=input('Digite uma String: ')\n",
    "txt=txt.lower()\n",
    "txt2=txt.replace('a','4').replace('e','3').replace('i','1').replace('t','7')\n",
    "print('A palavra digitada foi', txt2)"
   ]
  },
  {
   "cell_type": "markdown",
   "metadata": {},
   "source": [
    "Faça um programa que lê uma string e imprime ela ao contrário:"
   ]
  },
  {
   "cell_type": "code",
   "execution_count": null,
   "metadata": {},
   "outputs": [],
   "source": [
    "txt=input('Digite uma palavra: ')\n",
    "txt=list(txt)\n",
    "txt2=[]\n",
    "for i in range (len(txt)-1,-1,-1):\n",
    "    txt2.append(txt[i])\n",
    "txt2=''.join(txt2)\n",
    "print('A palavra ao contrário é', txt2)"
   ]
  },
  {
   "cell_type": "markdown",
   "metadata": {},
   "source": [
    "Agora faça um programa que lê uma palavra e diz se ela é um palíndromo, ou seja, se ela é igual a ela mesma ao contrário:"
   ]
  },
  {
   "cell_type": "code",
   "execution_count": null,
   "metadata": {},
   "outputs": [],
   "source": [
    "txt=input('Digite uma palavra: ')\n",
    "txt=txt.lower()\n",
    "txt=list(txt)\n",
    "txt2=[]\n",
    "c=0\n",
    "for i in range (len(txt)-1,-1,-1):\n",
    "    txt2.append(txt[i])\n",
    "for i in range (len(txt)):\n",
    "    if txt[i]==txt2[i]:\n",
    "        c=c+1        \n",
    "if c==len(txt):\n",
    "    print('A palavra é um palíndromo')\n",
    "else:         \n",
    "    print('A palavra não é um palíndromo')"
   ]
  },
  {
   "cell_type": "markdown",
   "metadata": {},
   "source": [
    "Faça uma função que leia um texto e uma palavra, então verifique se a palavra está no texto, imprimindo True ou False:"
   ]
  },
  {
   "cell_type": "code",
   "execution_count": null,
   "metadata": {},
   "outputs": [],
   "source": [
    "txt=input('Digite uma frase')\n",
    "txt=txt.lower()\n",
    "txt=txt.split()\n",
    "txt2=input('Digite uma palavra')\n",
    "txt2=txt2.lower()\n",
    "if txt2 in txt:\n",
    "    print('A palavra está no texto')\n",
    "else:\n",
    "    print('A palavra não está no texto')"
   ]
  },
  {
   "cell_type": "markdown",
   "metadata": {},
   "source": [
    "Faça um programa que lê uma string que contém tanto números quanto letras e caracteres especiais, e que separe as letras em uma variável e os números em outra (os caracteres especiais podem ser descartados). Ao final o programa deve imprimir as duas variáveis:"
   ]
  },
  {
   "cell_type": "code",
   "execution_count": null,
   "metadata": {},
   "outputs": [],
   "source": [
    "txt=input('Digite uma string mista')\n",
    "listletra=[]\n",
    "listnum=[]\n",
    "txt=list(txt)\n",
    "for i in range (len(txt)):\n",
    "    if txt[i].isalpha():\n",
    "        listletra.append(txt[i])\n",
    "    elif txt[i].isnumeric():\n",
    "        listnum.append(txt[i])\n",
    "listletra=''.join(listletra)\n",
    "listnum=''.join(listnum)\n",
    "print('As letras digitadas foram:',listletra)\n",
    "print('Os números digitados foram:',listnum)"
   ]
  },
  {
   "cell_type": "markdown",
   "metadata": {},
   "source": [
    "Desafio - Faça um programa que lê uma string e uma letra e:\n",
    "\n",
    "    a. imprima quantas vezes a letra aparece na string;\n",
    "\n",
    "    b. imprima todas as posições em que a letra aparece na string;\n",
    "\n",
    "    c. imprima a distância entre a primeira e a última aparição dessa letra na string."
   ]
  },
  {
   "cell_type": "code",
   "execution_count": null,
   "metadata": {},
   "outputs": [],
   "source": [
    "txt=input('Digite uma String ')\n",
    "txt=txt.lower()\n",
    "txt=list(txt)\n",
    "let=input('Digite uma letra ')\n",
    "let=let.lower()\n",
    "cont=txt.count(let)\n",
    "loc=[]\n",
    "if cont>=1:\n",
    "    for i in range(len(txt)):\n",
    "        if txt[i]==let:\n",
    "            loc.append(i)\n",
    "    for i in range(len(loc)):\n",
    "        loc[i]=int(loc[i])\n",
    "    if cont==1:\n",
    "        print('A letra aparece na String apenas uma vez na casa de posição',loc,'(contando a partir do 0)')\n",
    "    else:\n",
    "        loc.sort()\n",
    "        dist=loc[-1]-loc[0]\n",
    "        print ('A letra aparece na string',cont,'vezes, nas casas de posição',loc,\n",
    "        '(contando a partir do 0), e existem', dist-1,'algarismos entra a primeira e a ultima aparição')\n",
    "else:\n",
    "    print ('A letra não está presente na String')"
   ]
  }
 ],
 "metadata": {
  "language_info": {
   "name": "python"
  },
  "orig_nbformat": 4
 },
 "nbformat": 4,
 "nbformat_minor": 2
}
