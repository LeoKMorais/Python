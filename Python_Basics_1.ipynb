{
 "cells": [
  {
   "cell_type": "markdown",
   "id": "548158bc",
   "metadata": {},
   "source": [
    "Faça um programa que leia dois números e informe o maior deles:"
   ]
  },
  {
   "cell_type": "code",
   "execution_count": null,
   "id": "45316a89",
   "metadata": {},
   "outputs": [],
   "source": [
    "n1=input('Digite o primeiro número')\n",
    "n1=n1.replace(',','.')\n",
    "n1=float(n1)\n",
    "n2=input('Digite o segundo número')\n",
    "n2=n2.replace(',','.')\n",
    "n2=float(n2)\n",
    "if n1>n2:\n",
    "    print('O Maior número é:',n1)\n",
    "elif n1<n2:\n",
    "    print('O Maior número é:',n2)\n",
    "else:\n",
    "    print('Os números são iguais')"
   ]
  },
  {
   "cell_type": "markdown",
   "id": "cc0f0474",
   "metadata": {},
   "source": [
    "Faça um código que leia um número e informe se ele é par ou ímpar:"
   ]
  },
  {
   "cell_type": "code",
   "execution_count": null,
   "id": "e938e476",
   "metadata": {},
   "outputs": [],
   "source": [
    "n=int(input('Digite um número (apenas inteiros)'))\n",
    "if (n%2==0):\n",
    "    v='par'\n",
    "else:\n",
    "    v='ímpar'\n",
    "print('O Número digitado é',v)\n"
   ]
  },
  {
   "cell_type": "markdown",
   "id": "dc821eb5",
   "metadata": {},
   "source": [
    "Faça um programa que receba 3 notas de prova de um aluno, calcule a média e diga se ele foi aprovado ou reprovado. A média para aprovação é de pelo menos 6 (aprovado se média maior ou igual a 6):"
   ]
  },
  {
   "cell_type": "code",
   "execution_count": null,
   "id": "7679d26b",
   "metadata": {},
   "outputs": [],
   "source": [
    "\n",
    "n1=input('Digite a primeira nota')\n",
    "n1=n1.replace(',','.')\n",
    "n1=float(n1)\n",
    "n2=input('Digite a segunda nota')\n",
    "n2=n2.replace(',','.')\n",
    "n2=float(n2)\n",
    "n3=input('Digite a terceira nota')\n",
    "n3=n3.replace(',','.')\n",
    "n3=float(n3)\n",
    "media=(n1+n2+n3)/3\n",
    "media=round(media,2)\n",
    "if media>=6:\n",
    "    print('Aprovado, média:',media)\n",
    "else:\n",
    "    print('Reprovado, média',media)"
   ]
  },
  {
   "cell_type": "markdown",
   "id": "d9841ab9",
   "metadata": {},
   "source": [
    "Uma empresa irá aplicar um reajuste nos salários de seus funcionários de acordo com as seguintes regras:\n",
    "\n",
    "*Salário até R$2800,00 (incluindo): aumento de 20%;\n",
    "\n",
    "*Salários entre R 2800,00 e R$7000,00: aumento de 15%;\n",
    "\n",
    "*Salários entre R 7000,00 e R$15000,00: aumento de 10%;\n",
    "\n",
    "*Salários de R$15000,00 em diante: aumento de 5%.\n",
    "\n",
    "Dado o salário de um funcionário, informe: o salário antes do reajuste; o percentual de aumento aplicado; o valor do aumento e o novo salário:"
   ]
  },
  {
   "cell_type": "code",
   "execution_count": null,
   "id": "5d04a446",
   "metadata": {},
   "outputs": [],
   "source": [
    "#Questão 4\n",
    "sal=input('Digite seu salário')\n",
    "sal=sal.replace(',','.')\n",
    "sal=float(sal)\n",
    "if (sal<=2800) and (sal>0):\n",
    "    reaj=0.2\n",
    "elif (sal>2800) and (sal<7000):\n",
    "    reaj=0.15\n",
    "elif (sal>=7000) and (sal<15000):\n",
    "    reaj=0.1\n",
    "elif (sal>=15000):\n",
    "    reaj=0.05\n",
    "else:\n",
    "    print('ERRO:VALOR DO SALÁRIO INVÁLIDO')\n",
    "nsal=sal*(1+reaj)\n",
    "nsal=round(nsal,2)\n",
    "nsal=str(nsal)\n",
    "nsal=nsal.replace('.',',')\n",
    "aum=sal*reaj\n",
    "aum=round(aum,2)\n",
    "aum=str(aum)\n",
    "aum=aum.replace('.',',')\n",
    "porc=reaj*100\n",
    "if sal>0:\n",
    "    print('O Valor antigo do salário era de:',sal,'R$')\n",
    "    print('O Percentual de aumento foi de:',porc,'%')\n",
    "    print('O Valor do aumento é de:',aum,'R$')\n",
    "    print('O Valor do novo salário é de:',nsal,'R$')\n"
   ]
  }
 ],
 "metadata": {
  "kernelspec": {
   "display_name": "Python 3 (ipykernel)",
   "language": "python",
   "name": "python3"
  },
  "language_info": {
   "codemirror_mode": {
    "name": "ipython",
    "version": 3
   },
   "file_extension": ".py",
   "mimetype": "text/x-python",
   "name": "python",
   "nbconvert_exporter": "python",
   "pygments_lexer": "ipython3",
   "version": "3.9.7"
  }
 },
 "nbformat": 4,
 "nbformat_minor": 5
}
