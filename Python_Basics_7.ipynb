{
 "cells": [
  {
   "cell_type": "markdown",
   "metadata": {},
   "source": [
    "Faça um programa que peça ao usuário um número e imprima todos os números de um até o número dado. Exemplo: digite: 5, imprime: 1 2 3 4 5"
   ]
  },
  {
   "cell_type": "code",
   "execution_count": null,
   "metadata": {},
   "outputs": [],
   "source": [
    "def testaint(n):\n",
    "    while True:\n",
    "        try:\n",
    "            n=int(n)\n",
    "            break\n",
    "        except:\n",
    "            n=input(\"ERRO: DIGITE UM INTEIRO\")\n",
    "    return n\n",
    "num=input(\"Digite um numero inteiro\")\n",
    "n=testaint(num)\n",
    "i=1\n",
    "while i<=n:\n",
    "    print(i)\n",
    "    i+=1\n",
    "\n"
   ]
  },
  {
   "cell_type": "markdown",
   "metadata": {},
   "source": [
    "Peça ao usuário para digitar um número n e some todos os números de 1 a n."
   ]
  },
  {
   "cell_type": "code",
   "execution_count": null,
   "metadata": {},
   "outputs": [],
   "source": [
    "def testaint(n):\n",
    "    while True:\n",
    "        try:\n",
    "            n=int(n)\n",
    "            break\n",
    "        except:\n",
    "            n=input(\"ERRO: DIGITE UM INTEIRO\")\n",
    "    return n\n",
    "num=input(\"Digite um numero inteiro\")\n",
    "n=testaint(num)\n",
    "i=1\n",
    "soma=0\n",
    "while i<=n:\n",
    "    soma+=i\n",
    "    i+=1\n",
    "print(soma)"
   ]
  },
  {
   "cell_type": "markdown",
   "metadata": {},
   "source": [
    "Peça ao usuário para digitar um número e imprima o fatorial de n."
   ]
  },
  {
   "cell_type": "code",
   "execution_count": null,
   "metadata": {},
   "outputs": [],
   "source": [
    "def testaint(n):\n",
    "    while True:\n",
    "        try:\n",
    "            n=int(n)\n",
    "            break\n",
    "        except:\n",
    "            n=input(\"ERRO: DIGITE UM INTEIRO\")\n",
    "    return n\n",
    "num=input(\"Digite um numero inteiro\")\n",
    "n=testaint(num)\n",
    "i=n\n",
    "fat=1\n",
    "while i>0:\n",
    "    fat=fat*i\n",
    "    i-=1\n",
    "print (fat)"
   ]
  },
  {
   "cell_type": "markdown",
   "metadata": {},
   "source": [
    "Faça um programa que imprima a tabuada do 9 (de 9\\*1 a 9\\*10) usando loops."
   ]
  },
  {
   "cell_type": "code",
   "execution_count": null,
   "metadata": {},
   "outputs": [],
   "source": [
    "i=1\n",
    "while i<=10:\n",
    "    tab=9*i\n",
    "    print(\"9 x\",i,\"=\",tab)\n",
    "    i+=1\n"
   ]
  },
  {
   "cell_type": "markdown",
   "metadata": {},
   "source": [
    "Faça um programa que recebe um número inteiro do usuário e imprime na tela a quantidade de divisores desse número e quais são eles.\n",
    "\n"
   ]
  },
  {
   "cell_type": "code",
   "execution_count": null,
   "metadata": {},
   "outputs": [],
   "source": [
    "def testaint(n):\n",
    "    while True:\n",
    "        try:\n",
    "            n=int(n)\n",
    "            break\n",
    "        except:\n",
    "            n=input(\"ERRO: DIGITE UM INTEIRO\")\n",
    "    return n\n",
    "num=input(\"Digite um numero inteiro\")\n",
    "n=testaint(num)\n",
    "i=1\n",
    "div=0\n",
    "while i<=n:\n",
    "    if n%i==0:\n",
    "        div+=1\n",
    "        print(i,\"é divisor\")\n",
    "    i+=1\n",
    "print(\"Total de\",div,\"divisores\")"
   ]
  },
  {
   "cell_type": "markdown",
   "metadata": {},
   "source": [
    "Faça um programa, usando loops, que peça para um usuário digitar um número e que só finaliza quando o usuário digitar 0. Ao final imprima a soma de todos os números digitados."
   ]
  },
  {
   "cell_type": "code",
   "execution_count": null,
   "metadata": {},
   "outputs": [],
   "source": [
    "def testaint(n):\n",
    "    while True:\n",
    "        try:\n",
    "            n=int(n)\n",
    "            break\n",
    "        except:\n",
    "            n=input(\"ERRO: DIGITE UM INTEIRO\")\n",
    "    return n\n",
    "soma=0\n",
    "while True:\n",
    "    num=input(\"Digite um numero inteiro\")\n",
    "    n=testaint(num)\n",
    "    if n!=0:\n",
    "        soma=soma+n\n",
    "    else:\n",
    "        break\n",
    "print(soma)"
   ]
  },
  {
   "cell_type": "markdown",
   "metadata": {},
   "source": [
    "Faça um programa que sorteia um número N e peça para o usuário adivinhar o número sorteado. A cada resposta errada, o seu programa deve imprimir um aviso dizendo que a resposta está errada e pedir novamente uma resposta ao usuário."
   ]
  },
  {
   "cell_type": "code",
   "execution_count": null,
   "metadata": {},
   "outputs": [],
   "source": [
    "def testaint(n):\n",
    "    while True:\n",
    "        try:\n",
    "            n=int(n)\n",
    "            break\n",
    "        except:\n",
    "            n=input(\"ERRO: DIGITE UM INTEIRO\")\n",
    "    return n\n",
    "i=48\n",
    "num=input(\"Digite um numero inteiro\")\n",
    "n=testaint(num)\n",
    "while n!=i:\n",
    "    num=input(\"Errado, tente outro\")\n",
    "    n=testaint(num)\n",
    "print(\"Acertou\")\n",
    "    "
   ]
  },
  {
   "cell_type": "markdown",
   "metadata": {},
   "source": [
    "Faça um programa que peça para o usuário digitar a idade, o salário e o sexo de uma pessoa até que as entradas digitadas sejam válidas.\n",
    "    a. Idade: entre 0 e 150;\n",
    "    b. Salário: maior que 0;\n",
    "    c. Sexo: M, F ou Outro."
   ]
  },
  {
   "cell_type": "code",
   "execution_count": null,
   "metadata": {},
   "outputs": [],
   "source": [
    "def testaint(n):\n",
    "    while True:\n",
    "        try:\n",
    "            n=int(n)\n",
    "            break\n",
    "        except:\n",
    "            n=input(\"ERRO: DIGITE UM INTEIRO\")\n",
    "    return n\n",
    "def testafloat(n):\n",
    "    while True:\n",
    "        try:\n",
    "            n=float(n)\n",
    "            break\n",
    "        except:\n",
    "            n=input(\"ERRO: DIGITE UM NÚMERO\")\n",
    "    return n\n",
    "idade=input(\"Digite sua idade\")\n",
    "id=testaint(idade)\n",
    "while (id>150) or (id<0):\n",
    "    id=input(\"IDADE INVÁLIDA\")\n",
    "    id=testaint(id)\n",
    "salario=input(\"Digite seu salario \")\n",
    "sal=testafloat(salario)\n",
    "while sal<=0:\n",
    "    sal=input(\"SALÁRIO INVÁLIDO\")\n",
    "    sal=testafloat(sal)\n",
    "sexo=input(\"DIGITE O SEXO (M, F OU OUTRO) \")\n",
    "sexo=sexo.upper()\n",
    "while (sexo!=\"M\") and (sexo!=\"F\") and (sexo!=\"OUTRO\"):\n",
    "    sexo=input(\"SEXO INVÁLIDO\")\n",
    "print(id,sal,sexo)"
   ]
  }
 ],
 "metadata": {
  "interpreter": {
   "hash": "c06b424e22e94f2a96cebe0d74eabe3cecc478721a716953765d4cc93811411c"
  },
  "kernelspec": {
   "display_name": "Python 3 (ipykernel)",
   "language": "python",
   "name": "python3"
  },
  "language_info": {
   "codemirror_mode": {
    "name": "ipython",
    "version": 3
   },
   "file_extension": ".py",
   "mimetype": "text/x-python",
   "name": "python",
   "nbconvert_exporter": "python",
   "pygments_lexer": "ipython3",
   "version": "3.9.7"
  }
 },
 "nbformat": 4,
 "nbformat_minor": 4
}
